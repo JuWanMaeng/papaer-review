{
  "nbformat": 4,
  "nbformat_minor": 0,
  "metadata": {
    "colab": {
      "name": "VGG16.ipynb",
      "provenance": [],
      "machine_shape": "hm",
      "authorship_tag": "ABX9TyPvmT+W3MHHPoyUilpBWSAI",
      "include_colab_link": true
    },
    "kernelspec": {
      "name": "python3",
      "display_name": "Python 3"
    },
    "language_info": {
      "name": "python"
    },
    "accelerator": "GPU"
  },
  "cells": [
    {
      "cell_type": "markdown",
      "metadata": {
        "id": "view-in-github",
        "colab_type": "text"
      },
      "source": [
        "<a href=\"https://colab.research.google.com/github/JuWanMaeng/papaer-review/blob/main/VGG16.ipynb\" target=\"_parent\"><img src=\"https://colab.research.google.com/assets/colab-badge.svg\" alt=\"Open In Colab\"/></a>"
      ]
    },
    {
      "cell_type": "code",
      "metadata": {
        "id": "z6_-N1OTxKju"
      },
      "source": [
        "from tensorflow import keras\n",
        "import tensorflow as tf\n",
        "import matplotlib.pyplot as plt\n",
        "import numpy as np"
      ],
      "execution_count": 103,
      "outputs": []
    },
    {
      "cell_type": "code",
      "metadata": {
        "id": "OtWhWM6-xcl4"
      },
      "source": [
        "from keras.layers import Conv2D,MaxPool2D,Dense,Dropout,Flatten\n",
        "from keras.models import Sequential\n",
        "from sklearn.model_selection import train_test_split"
      ],
      "execution_count": 104,
      "outputs": []
    },
    {
      "cell_type": "code",
      "metadata": {
        "id": "ou9C6KPLx3qW"
      },
      "source": [
        "(x_train,y_train),(x_test,y_test)=keras.datasets.cifar10.load_data()"
      ],
      "execution_count": 105,
      "outputs": []
    },
    {
      "cell_type": "code",
      "metadata": {
        "id": "vPgicQycx_CP"
      },
      "source": [
        "x_train=x_train\n",
        "x_test=x_test"
      ],
      "execution_count": 106,
      "outputs": []
    },
    {
      "cell_type": "code",
      "metadata": {
        "id": "yfUKp65-yGBp"
      },
      "source": [
        "CLASS_NAMES= ['airplane', 'automobile', 'bird', 'cat', 'deer', 'dog', 'frog', 'horse', 'ship', 'truck']"
      ],
      "execution_count": 107,
      "outputs": []
    },
    {
      "cell_type": "code",
      "metadata": {
        "colab": {
          "base_uri": "https://localhost:8080/"
        },
        "id": "vYg9HmtIyJ1z",
        "outputId": "2cb3c564-0537-4c76-ab35-701df3ce7343"
      },
      "source": [
        "print(x_train.shape,x_test.shape)"
      ],
      "execution_count": 108,
      "outputs": [
        {
          "output_type": "stream",
          "text": [
            "(50000, 32, 32, 3) (10000, 32, 32, 3)\n"
          ],
          "name": "stdout"
        }
      ]
    },
    {
      "cell_type": "code",
      "metadata": {
        "id": "sNQn-tjgyM7E"
      },
      "source": [
        "x_train,x_val,y_train,y_val=train_test_split(x_train,y_train,test_size=0.1)"
      ],
      "execution_count": 109,
      "outputs": []
    },
    {
      "cell_type": "code",
      "metadata": {
        "id": "clcgtJcKyZDk"
      },
      "source": [
        "train_ds=tf.data.Dataset.from_tensor_slices((x_train,y_train))\n",
        "test_ds=tf.data.Dataset.from_tensor_slices((x_test,y_test))\n",
        "val_ds=tf.data.Dataset.from_tensor_slices((x_val,y_val))"
      ],
      "execution_count": 110,
      "outputs": []
    },
    {
      "cell_type": "code",
      "metadata": {
        "colab": {
          "base_uri": "https://localhost:8080/"
        },
        "id": "m0Db0eXQylVR",
        "outputId": "1f2c77bb-c789-4fbe-b28f-8aca897aca0c"
      },
      "source": [
        "print(x_train[0].shape)"
      ],
      "execution_count": 111,
      "outputs": [
        {
          "output_type": "stream",
          "text": [
            "(32, 32, 3)\n"
          ],
          "name": "stdout"
        }
      ]
    },
    {
      "cell_type": "code",
      "metadata": {
        "id": "xM_Lwan9yphp"
      },
      "source": [
        "def process_images(image,label):\n",
        "  image=tf.image.resize(image,(224,224))\n",
        "  return image,label"
      ],
      "execution_count": 112,
      "outputs": []
    },
    {
      "cell_type": "code",
      "metadata": {
        "id": "iTGORIPmyyvC"
      },
      "source": [
        "train_ds=train_ds.batch(batch_size=64)\n",
        "test_ds=test_ds.batch(batch_size=64)\n",
        "val_ds=val_ds.batch(batch_size=64)"
      ],
      "execution_count": 113,
      "outputs": []
    },
    {
      "cell_type": "code",
      "metadata": {
        "id": "3I2ilCQGy93r"
      },
      "source": [
        "train_ds=train_ds.map(process_images)\n",
        "test_ds=test_ds.map(process_images)\n",
        "val_ds=val_ds.map(process_images)"
      ],
      "execution_count": 114,
      "outputs": []
    },
    {
      "cell_type": "code",
      "metadata": {
        "id": "OJS3St3rzHUZ"
      },
      "source": [
        "class VGG16(Sequential):\n",
        "  def __init__(self):\n",
        "    super().__init__()\n",
        "\n",
        "    self.add(Conv2D(64,3,1,padding='same',activation='relu',input_shape=(224,224,3)))\n",
        "    self.add(Conv2D(64,3,1,padding='same',activation='relu'))\n",
        "\n",
        "    self.add(MaxPool2D(2,2))\n",
        "    self.add(Conv2D(128,3,1,padding='same',activation='relu'))\n",
        "    self.add(Conv2D(128,3,1,padding='same',activation='relu'))\n",
        "\n",
        "    self.add(MaxPool2D(2,2))\n",
        "    self.add(Conv2D(256,3,1,padding='same',activation='relu'))\n",
        "    self.add(Conv2D(256,3,1,padding='same',activation='relu'))\n",
        "    self.add(Conv2D(256,3,1,padding='same',activation='relu'))\n",
        "\n",
        "    self.add(MaxPool2D(2,2))\n",
        "    self.add(Conv2D(512,3,1,padding='same',activation='relu'))\n",
        "    self.add(Conv2D(512,3,1,padding='same',activation='relu'))\n",
        "    self.add(Conv2D(512,3,1,padding='same',activation='relu'))\n",
        "\n",
        "    self.add(MaxPool2D(2,2))\n",
        "    self.add(Conv2D(512,3,1,padding='same',activation='relu'))\n",
        "    self.add(Conv2D(512,3,1,padding='same',activation='relu'))\n",
        "    self.add(Conv2D(512,3,1,padding='same',activation='relu'))\n",
        "\n",
        "    self.add(MaxPool2D(2,2))\n",
        "    self.add(Flatten())\n",
        "\n",
        "    self.add(Dense(4096,activation='relu'))\n",
        "    self.add(Dropout(0.5))\n",
        "    \n",
        "    self.add(Dense(4096,activation='relu'))\n",
        "    self.add(Dropout(0.5))\n",
        "\n",
        "    self.add(Dense(1000,activation='softmax'))\n",
        "\n",
        "    self.optimizer=keras.optimizers.Adam(learning_rate=0.001)\n",
        "    \n",
        "\n",
        "    self.compile(optimizer=self.optimizer,loss='sparse_categorical_crossentropy',metrics='accuracy')\n",
        "\n"
      ],
      "execution_count": 115,
      "outputs": []
    },
    {
      "cell_type": "code",
      "metadata": {
        "id": "ZtLl7FPBCyr1"
      },
      "source": [
        ""
      ],
      "execution_count": null,
      "outputs": []
    },
    {
      "cell_type": "code",
      "metadata": {
        "id": "HwMNAMb2JqIw"
      },
      "source": [
        ""
      ],
      "execution_count": null,
      "outputs": []
    },
    {
      "cell_type": "code",
      "metadata": {
        "id": "PR9Ua6ndQhlj"
      },
      "source": [
        ""
      ],
      "execution_count": null,
      "outputs": []
    },
    {
      "cell_type": "code",
      "metadata": {
        "id": "37GrrpF1XZCZ"
      },
      "source": [
        ""
      ],
      "execution_count": null,
      "outputs": []
    },
    {
      "cell_type": "code",
      "metadata": {
        "id": "1uBSQUgzeQfs"
      },
      "source": [
        ""
      ],
      "execution_count": null,
      "outputs": []
    },
    {
      "cell_type": "code",
      "metadata": {
        "colab": {
          "base_uri": "https://localhost:8080/"
        },
        "id": "i0UZNsM909Ce",
        "outputId": "dca6be50-b33d-4b68-9526-5bea9d66d07c"
      },
      "source": [
        "model=VGG16()\n",
        "model.summary()"
      ],
      "execution_count": 116,
      "outputs": [
        {
          "output_type": "stream",
          "text": [
            "Model: \"vg_g16_18\"\n",
            "_________________________________________________________________\n",
            "Layer (type)                 Output Shape              Param #   \n",
            "=================================================================\n",
            "conv2d_234 (Conv2D)          (None, 224, 224, 64)      1792      \n",
            "_________________________________________________________________\n",
            "conv2d_235 (Conv2D)          (None, 224, 224, 64)      36928     \n",
            "_________________________________________________________________\n",
            "max_pooling2d_90 (MaxPooling (None, 112, 112, 64)      0         \n",
            "_________________________________________________________________\n",
            "conv2d_236 (Conv2D)          (None, 112, 112, 128)     73856     \n",
            "_________________________________________________________________\n",
            "conv2d_237 (Conv2D)          (None, 112, 112, 128)     147584    \n",
            "_________________________________________________________________\n",
            "max_pooling2d_91 (MaxPooling (None, 56, 56, 128)       0         \n",
            "_________________________________________________________________\n",
            "conv2d_238 (Conv2D)          (None, 56, 56, 256)       295168    \n",
            "_________________________________________________________________\n",
            "conv2d_239 (Conv2D)          (None, 56, 56, 256)       590080    \n",
            "_________________________________________________________________\n",
            "conv2d_240 (Conv2D)          (None, 56, 56, 256)       590080    \n",
            "_________________________________________________________________\n",
            "max_pooling2d_92 (MaxPooling (None, 28, 28, 256)       0         \n",
            "_________________________________________________________________\n",
            "conv2d_241 (Conv2D)          (None, 28, 28, 512)       1180160   \n",
            "_________________________________________________________________\n",
            "conv2d_242 (Conv2D)          (None, 28, 28, 512)       2359808   \n",
            "_________________________________________________________________\n",
            "conv2d_243 (Conv2D)          (None, 28, 28, 512)       2359808   \n",
            "_________________________________________________________________\n",
            "max_pooling2d_93 (MaxPooling (None, 14, 14, 512)       0         \n",
            "_________________________________________________________________\n",
            "conv2d_244 (Conv2D)          (None, 14, 14, 512)       2359808   \n",
            "_________________________________________________________________\n",
            "conv2d_245 (Conv2D)          (None, 14, 14, 512)       2359808   \n",
            "_________________________________________________________________\n",
            "conv2d_246 (Conv2D)          (None, 14, 14, 512)       2359808   \n",
            "_________________________________________________________________\n",
            "max_pooling2d_94 (MaxPooling (None, 7, 7, 512)         0         \n",
            "_________________________________________________________________\n",
            "flatten_18 (Flatten)         (None, 25088)             0         \n",
            "_________________________________________________________________\n",
            "dense_53 (Dense)             (None, 4096)              102764544 \n",
            "_________________________________________________________________\n",
            "dropout_36 (Dropout)         (None, 4096)              0         \n",
            "_________________________________________________________________\n",
            "dense_54 (Dense)             (None, 4096)              16781312  \n",
            "_________________________________________________________________\n",
            "dropout_37 (Dropout)         (None, 4096)              0         \n",
            "_________________________________________________________________\n",
            "dense_55 (Dense)             (None, 1000)              4097000   \n",
            "=================================================================\n",
            "Total params: 138,357,544\n",
            "Trainable params: 138,357,544\n",
            "Non-trainable params: 0\n",
            "_________________________________________________________________\n"
          ],
          "name": "stdout"
        }
      ]
    },
    {
      "cell_type": "code",
      "metadata": {
        "colab": {
          "base_uri": "https://localhost:8080/"
        },
        "id": "ZIowHrX01Ko7",
        "outputId": "6924c78d-b28e-4e95-ea94-1c327ee74083"
      },
      "source": [
        "early=keras.callbacks.EarlyStopping(patience=20)\n",
        "checkpoint=keras.callbacks.ModelCheckpoint('vgg16.h5',save_best_only=True)\n",
        "\n",
        "history=model.fit(train_ds,validation_data=val_ds,epochs=100,\n",
        "                  callbacks=[early,checkpoint])"
      ],
      "execution_count": 117,
      "outputs": [
        {
          "output_type": "stream",
          "text": [
            "Epoch 1/100\n",
            "704/704 [==============================] - 179s 252ms/step - loss: 13.7253 - accuracy: 0.1745 - val_loss: 1.5824 - val_accuracy: 0.4254\n",
            "Epoch 2/100\n",
            "704/704 [==============================] - 176s 250ms/step - loss: 1.5895 - accuracy: 0.4278 - val_loss: 1.2447 - val_accuracy: 0.5660\n",
            "Epoch 3/100\n",
            "704/704 [==============================] - 176s 250ms/step - loss: 1.1735 - accuracy: 0.5845 - val_loss: 0.9782 - val_accuracy: 0.6642\n",
            "Epoch 4/100\n",
            "704/704 [==============================] - 176s 250ms/step - loss: 0.9397 - accuracy: 0.6744 - val_loss: 1.0060 - val_accuracy: 0.6464\n",
            "Epoch 5/100\n",
            "704/704 [==============================] - 176s 250ms/step - loss: 0.7788 - accuracy: 0.7330 - val_loss: 0.9494 - val_accuracy: 0.6820\n",
            "Epoch 6/100\n",
            "704/704 [==============================] - 176s 250ms/step - loss: 0.6486 - accuracy: 0.7758 - val_loss: 0.8966 - val_accuracy: 0.7132\n",
            "Epoch 7/100\n",
            "704/704 [==============================] - 176s 250ms/step - loss: 0.5462 - accuracy: 0.8090 - val_loss: 0.9708 - val_accuracy: 0.6812\n",
            "Epoch 8/100\n",
            "704/704 [==============================] - 176s 250ms/step - loss: 0.4684 - accuracy: 0.8378 - val_loss: 0.9916 - val_accuracy: 0.6878\n",
            "Epoch 9/100\n",
            "704/704 [==============================] - 176s 250ms/step - loss: 0.4163 - accuracy: 0.8570 - val_loss: 0.9999 - val_accuracy: 0.6894\n",
            "Epoch 10/100\n",
            "704/704 [==============================] - 176s 250ms/step - loss: 0.3318 - accuracy: 0.8874 - val_loss: 1.0225 - val_accuracy: 0.6922\n",
            "Epoch 11/100\n",
            "704/704 [==============================] - 176s 250ms/step - loss: 0.2784 - accuracy: 0.9065 - val_loss: 1.1218 - val_accuracy: 0.7038\n",
            "Epoch 12/100\n",
            "704/704 [==============================] - 176s 250ms/step - loss: 0.2482 - accuracy: 0.9172 - val_loss: 1.1661 - val_accuracy: 0.7160\n",
            "Epoch 13/100\n",
            "704/704 [==============================] - 176s 250ms/step - loss: 0.2179 - accuracy: 0.9271 - val_loss: 1.0584 - val_accuracy: 0.7262\n",
            "Epoch 14/100\n",
            "704/704 [==============================] - 176s 250ms/step - loss: 0.2110 - accuracy: 0.9326 - val_loss: 1.1164 - val_accuracy: 0.7262\n",
            "Epoch 15/100\n",
            "704/704 [==============================] - 176s 250ms/step - loss: 0.1860 - accuracy: 0.9390 - val_loss: 1.1585 - val_accuracy: 0.7170\n",
            "Epoch 16/100\n",
            "704/704 [==============================] - 176s 250ms/step - loss: 0.1727 - accuracy: 0.9459 - val_loss: 1.0887 - val_accuracy: 0.7304\n",
            "Epoch 17/100\n",
            "704/704 [==============================] - 176s 250ms/step - loss: 0.1620 - accuracy: 0.9474 - val_loss: 1.3638 - val_accuracy: 0.7104\n",
            "Epoch 18/100\n",
            "704/704 [==============================] - 176s 250ms/step - loss: 0.1574 - accuracy: 0.9499 - val_loss: 1.0747 - val_accuracy: 0.7338\n",
            "Epoch 19/100\n",
            "704/704 [==============================] - 176s 250ms/step - loss: 0.1429 - accuracy: 0.9550 - val_loss: 1.1775 - val_accuracy: 0.7220\n",
            "Epoch 20/100\n",
            "704/704 [==============================] - 176s 249ms/step - loss: 0.1553 - accuracy: 0.9527 - val_loss: 1.1863 - val_accuracy: 0.7218\n",
            "Epoch 21/100\n",
            "704/704 [==============================] - 176s 250ms/step - loss: 0.1326 - accuracy: 0.9590 - val_loss: 1.2970 - val_accuracy: 0.7210\n",
            "Epoch 22/100\n",
            "704/704 [==============================] - 176s 250ms/step - loss: 0.1447 - accuracy: 0.9578 - val_loss: 1.1652 - val_accuracy: 0.7254\n",
            "Epoch 23/100\n",
            "704/704 [==============================] - 176s 250ms/step - loss: 0.1098 - accuracy: 0.9652 - val_loss: 1.2622 - val_accuracy: 0.7212\n",
            "Epoch 24/100\n",
            "704/704 [==============================] - 176s 249ms/step - loss: 0.1216 - accuracy: 0.9624 - val_loss: 1.3035 - val_accuracy: 0.7176\n",
            "Epoch 25/100\n",
            "704/704 [==============================] - 176s 249ms/step - loss: 0.1160 - accuracy: 0.9648 - val_loss: 1.1859 - val_accuracy: 0.7064\n",
            "Epoch 26/100\n",
            "704/704 [==============================] - 176s 249ms/step - loss: 0.1162 - accuracy: 0.9642 - val_loss: 1.2715 - val_accuracy: 0.7170\n"
          ],
          "name": "stdout"
        }
      ]
    }
  ]
}
