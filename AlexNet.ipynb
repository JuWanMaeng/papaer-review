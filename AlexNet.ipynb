{
  "nbformat": 4,
  "nbformat_minor": 0,
  "metadata": {
    "colab": {
      "name": "AlexNet.ipynb",
      "provenance": [],
      "machine_shape": "hm",
      "authorship_tag": "ABX9TyOdskFQiWwM5xY9uGMJA5Qi",
      "include_colab_link": true
    },
    "kernelspec": {
      "name": "python3",
      "display_name": "Python 3"
    },
    "language_info": {
      "name": "python"
    },
    "accelerator": "GPU"
  },
  "cells": [
    {
      "cell_type": "markdown",
      "metadata": {
        "id": "view-in-github",
        "colab_type": "text"
      },
      "source": [
        "<a href=\"https://colab.research.google.com/github/JuWanMaeng/papaer-review/blob/main/AlexNet.ipynb\" target=\"_parent\"><img src=\"https://colab.research.google.com/assets/colab-badge.svg\" alt=\"Open In Colab\"/></a>"
      ]
    },
    {
      "cell_type": "code",
      "metadata": {
        "id": "vWgNeXuuLe3P"
      },
      "source": [
        "import tensorflow as tf\n",
        "from tensorflow import keras\n",
        "import matplotlib.pyplot as plt\n",
        "from sklearn.model_selection import train_test_split\n"
      ],
      "execution_count": null,
      "outputs": []
    },
    {
      "cell_type": "code",
      "metadata": {
        "id": "OT-M6bSILjkn"
      },
      "source": [
        "(x_train, y_train), (x_test, y_test) = keras.datasets.cifar10.load_data()"
      ],
      "execution_count": null,
      "outputs": []
    },
    {
      "cell_type": "code",
      "metadata": {
        "id": "7z9fegIGLlAi"
      },
      "source": [
        "CLASS_NAMES= ['airplane', 'automobile', 'bird', 'cat', 'deer', 'dog', 'frog', 'horse', 'ship', 'truck']"
      ],
      "execution_count": null,
      "outputs": []
    },
    {
      "cell_type": "code",
      "metadata": {
        "id": "1dz_8LYALl-q"
      },
      "source": [
        "x_train,x_val,y_train,y_val=train_test_split(x_train,y_train,test_size=0.1)"
      ],
      "execution_count": null,
      "outputs": []
    },
    {
      "cell_type": "code",
      "metadata": {
        "colab": {
          "base_uri": "https://localhost:8080/"
        },
        "id": "1tMFwKE64Kbi",
        "outputId": "e9dc2000-2e35-4fc5-bd6c-a8d88ea60bb4"
      },
      "source": [
        "print(x_train.shape,x_val.shape)"
      ],
      "execution_count": null,
      "outputs": [
        {
          "output_type": "stream",
          "text": [
            "(45000, 32, 32, 3) (5000, 32, 32, 3)\n"
          ],
          "name": "stdout"
        }
      ]
    },
    {
      "cell_type": "code",
      "metadata": {
        "id": "AATUJq0nLnT0"
      },
      "source": [
        "train_ds = tf.data.Dataset.from_tensor_slices((x_train,y_train))\n",
        "test_ds = tf.data.Dataset.from_tensor_slices((x_test,y_test))\n",
        "validation_ds = tf.data.Dataset.from_tensor_slices((x_val,y_val))"
      ],
      "execution_count": null,
      "outputs": []
    },
    {
      "cell_type": "code",
      "metadata": {
        "id": "XU6Eb6-dLonz"
      },
      "source": [
        "def process_images(image, label):\n",
        "    \n",
        "    # Resize images from 32x32 to 277x277\n",
        "    image = tf.image.resize(image, (227,227))\n",
        "    return image, label"
      ],
      "execution_count": null,
      "outputs": []
    },
    {
      "cell_type": "code",
      "metadata": {
        "id": "ZrzNhsvGLqY4",
        "colab": {
          "base_uri": "https://localhost:8080/"
        },
        "outputId": "2141025f-74a5-43f7-a0ef-11efe16f4a7d"
      },
      "source": [
        "train_ds_size = tf.data.experimental.cardinality(train_ds).numpy()\n",
        "test_ds_size = tf.data.experimental.cardinality(test_ds).numpy()\n",
        "validation_ds_size = tf.data.experimental.cardinality(validation_ds).numpy()\n",
        "print(\"Training data size:\", train_ds_size)\n",
        "print(\"Test data size:\", test_ds_size)\n",
        "print(\"Validation data size:\", validation_ds_size)"
      ],
      "execution_count": null,
      "outputs": [
        {
          "output_type": "stream",
          "text": [
            "Training data size: 45000\n",
            "Test data size: 10000\n",
            "Validation data size: 5000\n"
          ],
          "name": "stdout"
        }
      ]
    },
    {
      "cell_type": "code",
      "metadata": {
        "id": "rJsnKSkaLuf-"
      },
      "source": [
        "train_ds = train_ds.batch(batch_size=128, drop_remainder=True)\n",
        "test_ds = test_ds.batch(batch_size=128, drop_remainder=True)\n",
        "val_ds = validation_ds.batch(batch_size=128, drop_remainder=True)"
      ],
      "execution_count": null,
      "outputs": []
    },
    {
      "cell_type": "code",
      "metadata": {
        "id": "H2Fowc8aYO4x"
      },
      "source": [
        "train_ds=train_ds.map(process_images)\n",
        "test_ds=test_ds.map(process_images)\n",
        "val_ds=val_ds.map(process_images)"
      ],
      "execution_count": null,
      "outputs": []
    },
    {
      "cell_type": "code",
      "metadata": {
        "id": "S1DZvPKgL0v-"
      },
      "source": [
        "from keras.models import Sequential\n",
        "from keras.layers import Dense,Conv2D,Flatten,MaxPool2D,BatchNormalization,Dropout"
      ],
      "execution_count": null,
      "outputs": []
    },
    {
      "cell_type": "code",
      "metadata": {
        "id": "hUzlKCowZA9H"
      },
      "source": [
        "class AlexNet(Sequential):\n",
        "  def __init__(self):\n",
        "    super().__init__()\n",
        "\n",
        "    self.add(Conv2D(96,11,strides=4,activation='relu',input_shape=(227,227,3)))\n",
        "    self.add(BatchNormalization())\n",
        "    self.add(MaxPool2D(3,2))\n",
        "\n",
        "    self.add(Conv2D(256,5,strides=1,activation='relu',padding='same'))\n",
        "    self.add(BatchNormalization())\n",
        "    self.add(MaxPool2D(3,2))\n",
        "\n",
        "    self.add(Conv2D(384,3,strides=1,activation='relu',padding='same'))\n",
        "    self.add(BatchNormalization())\n",
        "    self.add(Conv2D(384,3,strides=1,activation='relu',padding='same'))\n",
        "    self.add(BatchNormalization())\n",
        "    self.add(Conv2D(256,3,strides=1,activation='relu',padding='same'))\n",
        "    self.add(BatchNormalization())\n",
        "    self.add(MaxPool2D(3,2))\n",
        "    \n",
        "    self.add(Flatten())\n",
        "    self.add(Dense(4096,activation='relu'))\n",
        "    self.add(Dropout(0.5))\n",
        "    self.add(Dense(4096,activation='relu'))\n",
        "    self.add(Dropout(0.5))\n",
        "    self.add(Dense(10,activation='softmax'))\n",
        "\n",
        "    self.compile(optimizer='adam',loss='sparse_categorical_crossentropy',metrics='accuracy')\n"
      ],
      "execution_count": null,
      "outputs": []
    },
    {
      "cell_type": "code",
      "metadata": {
        "id": "5T8GEjEOZCdv"
      },
      "source": [
        "model=AlexNet()"
      ],
      "execution_count": null,
      "outputs": []
    },
    {
      "cell_type": "code",
      "metadata": {
        "colab": {
          "base_uri": "https://localhost:8080/"
        },
        "id": "XGvlOsimZFR0",
        "outputId": "01f525f5-2dfc-464a-88f3-2e3f9c7011b2"
      },
      "source": [
        "model.summary()"
      ],
      "execution_count": null,
      "outputs": [
        {
          "output_type": "stream",
          "text": [
            "Model: \"alex_net\"\n",
            "_________________________________________________________________\n",
            "Layer (type)                 Output Shape              Param #   \n",
            "=================================================================\n",
            "conv2d (Conv2D)              (None, 55, 55, 96)        34944     \n",
            "_________________________________________________________________\n",
            "batch_normalization (BatchNo (None, 55, 55, 96)        384       \n",
            "_________________________________________________________________\n",
            "max_pooling2d (MaxPooling2D) (None, 27, 27, 96)        0         \n",
            "_________________________________________________________________\n",
            "conv2d_1 (Conv2D)            (None, 27, 27, 256)       614656    \n",
            "_________________________________________________________________\n",
            "batch_normalization_1 (Batch (None, 27, 27, 256)       1024      \n",
            "_________________________________________________________________\n",
            "max_pooling2d_1 (MaxPooling2 (None, 13, 13, 256)       0         \n",
            "_________________________________________________________________\n",
            "conv2d_2 (Conv2D)            (None, 13, 13, 384)       885120    \n",
            "_________________________________________________________________\n",
            "batch_normalization_2 (Batch (None, 13, 13, 384)       1536      \n",
            "_________________________________________________________________\n",
            "conv2d_3 (Conv2D)            (None, 13, 13, 384)       1327488   \n",
            "_________________________________________________________________\n",
            "batch_normalization_3 (Batch (None, 13, 13, 384)       1536      \n",
            "_________________________________________________________________\n",
            "conv2d_4 (Conv2D)            (None, 13, 13, 256)       884992    \n",
            "_________________________________________________________________\n",
            "batch_normalization_4 (Batch (None, 13, 13, 256)       1024      \n",
            "_________________________________________________________________\n",
            "max_pooling2d_2 (MaxPooling2 (None, 6, 6, 256)         0         \n",
            "_________________________________________________________________\n",
            "flatten (Flatten)            (None, 9216)              0         \n",
            "_________________________________________________________________\n",
            "dense (Dense)                (None, 4096)              37752832  \n",
            "_________________________________________________________________\n",
            "dropout (Dropout)            (None, 4096)              0         \n",
            "_________________________________________________________________\n",
            "dense_1 (Dense)              (None, 4096)              16781312  \n",
            "_________________________________________________________________\n",
            "dropout_1 (Dropout)          (None, 4096)              0         \n",
            "_________________________________________________________________\n",
            "dense_2 (Dense)              (None, 10)                40970     \n",
            "=================================================================\n",
            "Total params: 58,327,818\n",
            "Trainable params: 58,325,066\n",
            "Non-trainable params: 2,752\n",
            "_________________________________________________________________\n"
          ],
          "name": "stdout"
        }
      ]
    },
    {
      "cell_type": "code",
      "metadata": {
        "colab": {
          "base_uri": "https://localhost:8080/"
        },
        "id": "TKxbSuEeZGAT",
        "outputId": "d4351324-ec0f-4112-fec4-8e34072b9ed3"
      },
      "source": [
        "es=keras.callbacks.EarlyStopping(patience=3)\n",
        "history=model.fit(train_ds,epochs=50,\n",
        "                  validation_data=val_ds,callbacks=[es]\n",
        "                  )"
      ],
      "execution_count": null,
      "outputs": [
        {
          "output_type": "stream",
          "text": [
            "Epoch 1/50\n",
            "351/351 [==============================] - 63s 91ms/step - loss: 7.7117 - accuracy: 0.2545 - val_loss: 1.8662 - val_accuracy: 0.3508\n",
            "Epoch 2/50\n",
            "351/351 [==============================] - 31s 89ms/step - loss: 1.7403 - accuracy: 0.4018 - val_loss: 1.4161 - val_accuracy: 0.5044\n",
            "Epoch 3/50\n",
            "351/351 [==============================] - 31s 89ms/step - loss: 1.4228 - accuracy: 0.4918 - val_loss: 1.4757 - val_accuracy: 0.4736\n",
            "Epoch 4/50\n",
            "351/351 [==============================] - 31s 89ms/step - loss: 1.2872 - accuracy: 0.5472 - val_loss: 1.3606 - val_accuracy: 0.5523\n",
            "Epoch 5/50\n",
            "351/351 [==============================] - 31s 89ms/step - loss: 1.1871 - accuracy: 0.5864 - val_loss: 1.1264 - val_accuracy: 0.6088\n",
            "Epoch 6/50\n",
            "351/351 [==============================] - 32s 90ms/step - loss: 1.0994 - accuracy: 0.6207 - val_loss: 1.1895 - val_accuracy: 0.5998\n",
            "Epoch 7/50\n",
            "351/351 [==============================] - 31s 89ms/step - loss: 1.0198 - accuracy: 0.6508 - val_loss: 1.1167 - val_accuracy: 0.6098\n",
            "Epoch 8/50\n",
            "351/351 [==============================] - 31s 89ms/step - loss: 0.9334 - accuracy: 0.6877 - val_loss: 1.3557 - val_accuracy: 0.5603\n",
            "Epoch 9/50\n",
            "351/351 [==============================] - 31s 89ms/step - loss: 0.8694 - accuracy: 0.7092 - val_loss: 0.8632 - val_accuracy: 0.7177\n",
            "Epoch 10/50\n",
            "351/351 [==============================] - 31s 89ms/step - loss: 0.7783 - accuracy: 0.7397 - val_loss: 1.6832 - val_accuracy: 0.5248\n",
            "Epoch 11/50\n",
            "351/351 [==============================] - 31s 89ms/step - loss: 0.7342 - accuracy: 0.7572 - val_loss: 0.7951 - val_accuracy: 0.7324\n",
            "Epoch 12/50\n",
            "351/351 [==============================] - 31s 89ms/step - loss: 0.6766 - accuracy: 0.7726 - val_loss: 0.9065 - val_accuracy: 0.6825\n",
            "Epoch 13/50\n",
            "351/351 [==============================] - 31s 89ms/step - loss: 0.6179 - accuracy: 0.7974 - val_loss: 0.8874 - val_accuracy: 0.7125\n",
            "Epoch 14/50\n",
            "351/351 [==============================] - 31s 89ms/step - loss: 0.5620 - accuracy: 0.8172 - val_loss: 1.0483 - val_accuracy: 0.6829\n"
          ],
          "name": "stdout"
        }
      ]
    },
    {
      "cell_type": "code",
      "metadata": {
        "colab": {
          "base_uri": "https://localhost:8080/",
          "height": 279
        },
        "id": "Vneth07gZPQT",
        "outputId": "5d1a225a-ba73-4ed6-8cf3-cce3a987abab"
      },
      "source": [
        "plt.plot(history.history['loss'])\n",
        "plt.plot(history.history['val_loss'])\n",
        "plt.xlabel('epoch')\n",
        "plt.ylabel('loss')\n",
        "plt.legend(['train','val'])\n",
        "plt.show()"
      ],
      "execution_count": null,
      "outputs": [
        {
          "output_type": "display_data",
          "data": {
            "image/png": "[encoded data removed]",
            "text/plain": [
              "<Figure size 432x288 with 1 Axes>"
            ]
          },
          "metadata": {
            "tags": [],
            "needs_background": "light"
          }
        }
      ]
    },
    {
      "cell_type": "code",
      "metadata": {
        "colab": {
          "base_uri": "https://localhost:8080/"
        },
        "id": "bDOGv1hMcklv",
        "outputId": "0f3ac403-d775-4800-ed9d-fe8eb3a605a6"
      },
      "source": [
        "model.evaluate(test_ds)"
      ],
      "execution_count": null,
      "outputs": [
        {
          "output_type": "stream",
          "text": [
            "71/78 [==========================>...] - ETA: 0s - loss: 1.0815 - accuracy: 0.6678"
          ],
          "name": "stdout"
        }
      ]
    },
    {
      "cell_type": "code",
      "metadata": {
        "id": "X5VmdxtY58z0"
      },
      "source": [
        ""
      ],
      "execution_count": null,
      "outputs": []
    }
  ]
}