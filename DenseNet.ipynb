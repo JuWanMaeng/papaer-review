{
  "nbformat": 4,
  "nbformat_minor": 0,
  "metadata": {
    "colab": {
      "name": "DenseNet.ipynb",
      "provenance": [],
      "machine_shape": "hm",
      "authorship_tag": "ABX9TyPmxhSl/C6vOt3UI44SmY1D",
      "include_colab_link": true
    },
    "kernelspec": {
      "name": "python3",
      "display_name": "Python 3"
    },
    "language_info": {
      "name": "python"
    },
    "accelerator": "GPU"
  },
  "cells": [
    {
      "cell_type": "markdown",
      "metadata": {
        "id": "view-in-github",
        "colab_type": "text"
      },
      "source": [
        "<a href=\"https://colab.research.google.com/github/JuWanMaeng/papaer-review/blob/main/DenseNet.ipynb\" target=\"_parent\"><img src=\"https://colab.research.google.com/assets/colab-badge.svg\" alt=\"Open In Colab\"/></a>"
      ]
    },
    {
      "cell_type": "code",
      "metadata": {
        "id": "fdPPS_GS6mkG"
      },
      "source": [
        "from tensorflow import keras\n",
        "from keras.layers import Input,Flatten,Dense,BatchNormalization,Conv2D,AvgPool2D,MaxPool2D,Concatenate,GlobalAveragePooling2D\n",
        "from keras.models import Sequential,Model\n",
        "from keras.activations import relu as ReLU\n",
        "from sklearn.model_selection import train_test_split\n",
        "import tensorflow as tf\n",
        "\n",
        "import numpy\n",
        "import matplotlib.pyplot as plt\n"
      ],
      "execution_count": null,
      "outputs": []
    },
    {
      "cell_type": "code",
      "metadata": {
        "colab": {
          "base_uri": "https://localhost:8080/"
        },
        "id": "vvzMjzM06rh5",
        "outputId": "0efaf46a-4395-46cb-e84d-195ef2f495a8"
      },
      "source": [
        "(x_train,y_train),(x_test,y_test)=keras.datasets.cifar10.load_data()"
      ],
      "execution_count": null,
      "outputs": [
        {
          "output_type": "stream",
          "text": [
            "Downloading data from https://www.cs.toronto.edu/~kriz/cifar-10-python.tar.gz\n",
            "170500096/170498071 [==============================] - 6s 0us/step\n"
          ],
          "name": "stdout"
        }
      ]
    },
    {
      "cell_type": "code",
      "metadata": {
        "id": "U12QA6FO6tUf"
      },
      "source": [
        "CLASS_NACLASS_NAMES= ['airplane', 'automobile', 'bird', 'cat', 'deer', 'dog', 'frog', 'horse', 'ship', 'truck']"
      ],
      "execution_count": null,
      "outputs": []
    },
    {
      "cell_type": "code",
      "metadata": {
        "id": "fp6rUIzx6vgW"
      },
      "source": [
        "x_train,x_val,y_train,y_val=train_test_split(x_train,y_train,test_size=0.1)"
      ],
      "execution_count": null,
      "outputs": []
    },
    {
      "cell_type": "code",
      "metadata": {
        "id": "ARRAmJNW6-Pr"
      },
      "source": [
        "class DenseUnit(Sequential):\n",
        "  def __init__(self,filter_out):\n",
        "    super().__init__()\n",
        "\n",
        "    # BN -> ReLU => Conv(1x1) ->BN -> ReLU -> Conv(3x3)\n",
        "\n",
        "    self.bn=BatchNormalization()\n",
        "    self.conv1=Conv2D(filter_out*4,(1,1),padding='same',kernel_initializer='he_noraml',kernel_regularizer=l2(1e-4))\n",
        "    self.conv2=Conv2D(filter_out,(3,3),padding='same',kernel_initializer='he_normal')\n",
        "    self.concat=Concatenate()\n",
        "    \n",
        "\n",
        "  def call(self,x):\n",
        "    \n",
        "    z=self.bn(x)\n",
        "    z=ReLU(z)\n",
        "    z-self.conv1(z)\n",
        "    z=self.bn(axis=1)(z)\n",
        "    z=ReLU(z)\n",
        "    z=self.conv2(z)\n",
        "    return self.concat([x,z])\n"
      ],
      "execution_count": null,
      "outputs": []
    },
    {
      "cell_type": "code",
      "metadata": {
        "id": "qhztFrBge_hs"
      },
      "source": [
        "class DenseBlock(Model):\n",
        "  def __init__(self,num_unit,growth_rate):\n",
        "    super().__init__()\n",
        "    self.sequence=list()\n",
        "    self.concat=Concatenate()\n",
        "    for idx in range(num_unit):\n",
        "      self.sequence.append(DenseUnit(growth_rate))\n",
        "\n",
        "  def call(self,x):\n",
        "    for unit in self.sequence:\n",
        "      x=unit(x)\n",
        "\n",
        "    return x"
      ],
      "execution_count": null,
      "outputs": []
    },
    {
      "cell_type": "code",
      "metadata": {
        "id": "wTSiiULpfTIM"
      },
      "source": [
        "class TransitionLayer(Model):\n",
        "  def __init__(self,filters):\n",
        "    super().__init__()\n",
        "    self.conv=Conv2D(filters,(1,1),padding='same')\n",
        "    self.pool=MaxPool2D(2)\n",
        "\n",
        "  def call(self,x):\n",
        "  # 여기서는 BN이 없어서 training을 안써도 된다고 한다.\n",
        "\n",
        "    x=self.conv(x)\n",
        "    x=self.pool(x)\n",
        "\n",
        "    return x"
      ],
      "execution_count": null,
      "outputs": []
    },
    {
      "cell_type": "code",
      "metadata": {
        "id": "1LZycKCsfTa8"
      },
      "source": [
        "class DenseNet(Sequential):\n",
        "  def __init__(self):\n",
        "    super().__init__()\n",
        "\n",
        "    self.add(Conv2D(12,(7,7),strides=1,padding='same',input_shape=(32,32,3)))\n",
        "\n",
        "    self.add(DenseBlock(6,12))\n",
        "    self.add(TransitionLayer(12))\n",
        "    self.add(DenseBlock(12,12))\n",
        "    self.add(TransitionLayer(12))\n",
        "    self.add(DenseBlock(24,12))\n",
        "    \n",
        "\n",
        "    self.add(AvgPool2D((8,8)))\n",
        "    self.add(Flatten())\n",
        "    self.add(Dense(128,activation='relu'))\n",
        "    self.add(Dense(10,activation='softmax'))\n",
        "\n",
        "    self.compile(optimizer='adam',loss='sparse_categorical_crossentropy',metrics='accuracy')\n"
      ],
      "execution_count": null,
      "outputs": []
    },
    {
      "cell_type": "code",
      "metadata": {
        "colab": {
          "base_uri": "https://localhost:8080/"
        },
        "id": "j4TDUirWfUxF",
        "outputId": "683f1c75-0b35-4f0f-db3b-2b3d73ed1fda"
      },
      "source": [
        "model=DenseNet()\n",
        "model.summary()"
      ],
      "execution_count": null,
      "outputs": [
        {
          "output_type": "stream",
          "text": [
            "Model: \"dense_net\"\n",
            "_________________________________________________________________\n",
            "Layer (type)                 Output Shape              Param #   \n",
            "=================================================================\n",
            "conv2d (Conv2D)              (None, 32, 32, 12)        1776      \n",
            "_________________________________________________________________\n",
            "dense_block (DenseBlock)     (None, 32, 32, 84)        0         \n",
            "_________________________________________________________________\n",
            "transition_layer (Transition (None, 16, 16, 12)        1020      \n",
            "_________________________________________________________________\n",
            "dense_block_1 (DenseBlock)   (None, 16, 16, 156)       0         \n",
            "_________________________________________________________________\n",
            "transition_layer_1 (Transiti (None, 8, 8, 12)          1884      \n",
            "_________________________________________________________________\n",
            "dense_block_2 (DenseBlock)   (None, 8, 8, 300)         0         \n",
            "_________________________________________________________________\n",
            "average_pooling2d (AveragePo (None, 1, 1, 300)         0         \n",
            "_________________________________________________________________\n",
            "flatten (Flatten)            (None, 300)               0         \n",
            "_________________________________________________________________\n",
            "dense (Dense)                (None, 128)               38528     \n",
            "_________________________________________________________________\n",
            "dense_1 (Dense)              (None, 10)                1290      \n",
            "=================================================================\n",
            "Total params: 44,498\n",
            "Trainable params: 44,498\n",
            "Non-trainable params: 0\n",
            "_________________________________________________________________\n"
          ],
          "name": "stdout"
        }
      ]
    },
    {
      "cell_type": "code",
      "metadata": {
        "colab": {
          "base_uri": "https://localhost:8080/"
        },
        "id": "OAqK1IpvfXAz",
        "outputId": "92f0310b-a8d9-4426-f429-d658e7ffde23"
      },
      "source": [
        "callbacks=keras.callbacks.EarlyStopping(patience=20)\n",
        "history=model.fit(x_test,y_test,batch_size=64,epochs=100,validation_data=(x_val,y_val),callbacks=callbacks)"
      ],
      "execution_count": null,
      "outputs": [
        {
          "output_type": "stream",
          "text": [
            "Epoch 1/100\n",
            "157/157 [==============================] - 44s 58ms/step - loss: 2.5632 - accuracy: 0.1897 - val_loss: 1.9695 - val_accuracy: 0.2550\n",
            "Epoch 2/100\n",
            "157/157 [==============================] - 3s 22ms/step - loss: 1.7985 - accuracy: 0.3273 - val_loss: 1.7774 - val_accuracy: 0.3396\n",
            "Epoch 3/100\n",
            "157/157 [==============================] - 3s 22ms/step - loss: 1.7019 - accuracy: 0.3696 - val_loss: 2.0156 - val_accuracy: 0.2688\n",
            "Epoch 4/100\n",
            "157/157 [==============================] - 3s 22ms/step - loss: 1.6213 - accuracy: 0.3999 - val_loss: 1.7856 - val_accuracy: 0.3568\n",
            "Epoch 5/100\n",
            "157/157 [==============================] - 3s 22ms/step - loss: 1.5734 - accuracy: 0.4214 - val_loss: 3.2400 - val_accuracy: 0.1788\n",
            "Epoch 6/100\n",
            "157/157 [==============================] - 3s 21ms/step - loss: 1.5490 - accuracy: 0.4207 - val_loss: 1.6812 - val_accuracy: 0.3780\n",
            "Epoch 7/100\n",
            "157/157 [==============================] - 3s 21ms/step - loss: 1.4841 - accuracy: 0.4524 - val_loss: 1.5415 - val_accuracy: 0.4340\n",
            "Epoch 8/100\n",
            "157/157 [==============================] - 4s 22ms/step - loss: 1.4719 - accuracy: 0.4584 - val_loss: 1.6449 - val_accuracy: 0.4044\n",
            "Epoch 9/100\n",
            "157/157 [==============================] - 4s 22ms/step - loss: 1.4355 - accuracy: 0.4722 - val_loss: 2.0957 - val_accuracy: 0.3452\n",
            "Epoch 10/100\n",
            "157/157 [==============================] - 4s 22ms/step - loss: 1.4062 - accuracy: 0.4760 - val_loss: 2.4193 - val_accuracy: 0.2592\n",
            "Epoch 11/100\n",
            "157/157 [==============================] - 3s 22ms/step - loss: 1.4194 - accuracy: 0.4786 - val_loss: 1.7128 - val_accuracy: 0.3856\n",
            "Epoch 12/100\n",
            "157/157 [==============================] - 3s 22ms/step - loss: 1.3533 - accuracy: 0.5057 - val_loss: 1.5947 - val_accuracy: 0.4208\n",
            "Epoch 13/100\n",
            "157/157 [==============================] - 3s 22ms/step - loss: 1.3523 - accuracy: 0.4965 - val_loss: 1.8760 - val_accuracy: 0.3576\n",
            "Epoch 14/100\n",
            "157/157 [==============================] - 3s 22ms/step - loss: 1.3307 - accuracy: 0.5239 - val_loss: 1.8881 - val_accuracy: 0.3490\n",
            "Epoch 15/100\n",
            "157/157 [==============================] - 3s 21ms/step - loss: 1.3299 - accuracy: 0.5160 - val_loss: 1.7753 - val_accuracy: 0.3784\n",
            "Epoch 16/100\n",
            "157/157 [==============================] - 3s 21ms/step - loss: 1.2882 - accuracy: 0.5295 - val_loss: 2.4459 - val_accuracy: 0.3050\n",
            "Epoch 17/100\n",
            "157/157 [==============================] - 3s 21ms/step - loss: 1.2838 - accuracy: 0.5321 - val_loss: 1.7626 - val_accuracy: 0.3824\n",
            "Epoch 18/100\n",
            "157/157 [==============================] - 3s 21ms/step - loss: 1.2654 - accuracy: 0.5342 - val_loss: 1.4240 - val_accuracy: 0.4902\n",
            "Epoch 19/100\n",
            "157/157 [==============================] - 3s 21ms/step - loss: 1.2423 - accuracy: 0.5497 - val_loss: 1.5227 - val_accuracy: 0.4568\n",
            "Epoch 20/100\n",
            "157/157 [==============================] - 3s 21ms/step - loss: 1.2314 - accuracy: 0.5562 - val_loss: 1.7029 - val_accuracy: 0.4146\n",
            "Epoch 21/100\n",
            "157/157 [==============================] - 3s 21ms/step - loss: 1.2479 - accuracy: 0.5415 - val_loss: 1.5403 - val_accuracy: 0.4648\n",
            "Epoch 22/100\n",
            "157/157 [==============================] - 3s 21ms/step - loss: 1.2085 - accuracy: 0.5604 - val_loss: 1.5377 - val_accuracy: 0.4472\n",
            "Epoch 23/100\n",
            "157/157 [==============================] - 3s 21ms/step - loss: 1.2179 - accuracy: 0.5519 - val_loss: 1.8577 - val_accuracy: 0.3890\n",
            "Epoch 24/100\n",
            "157/157 [==============================] - 3s 21ms/step - loss: 1.2069 - accuracy: 0.5556 - val_loss: 1.4945 - val_accuracy: 0.4668\n",
            "Epoch 25/100\n",
            "157/157 [==============================] - 3s 21ms/step - loss: 1.1857 - accuracy: 0.5673 - val_loss: 1.4774 - val_accuracy: 0.4736\n",
            "Epoch 26/100\n",
            "157/157 [==============================] - 3s 21ms/step - loss: 1.2072 - accuracy: 0.5575 - val_loss: 1.6182 - val_accuracy: 0.4134\n",
            "Epoch 27/100\n",
            "157/157 [==============================] - 3s 21ms/step - loss: 1.1830 - accuracy: 0.5700 - val_loss: 1.3956 - val_accuracy: 0.5004\n",
            "Epoch 28/100\n",
            "157/157 [==============================] - 3s 22ms/step - loss: 1.1713 - accuracy: 0.5768 - val_loss: 1.6102 - val_accuracy: 0.4478\n",
            "Epoch 29/100\n",
            "157/157 [==============================] - 3s 22ms/step - loss: 1.1692 - accuracy: 0.5719 - val_loss: 1.5281 - val_accuracy: 0.4520\n",
            "Epoch 30/100\n",
            "157/157 [==============================] - 3s 22ms/step - loss: 1.1339 - accuracy: 0.5945 - val_loss: 1.6953 - val_accuracy: 0.4386\n",
            "Epoch 31/100\n",
            "157/157 [==============================] - 3s 22ms/step - loss: 1.1378 - accuracy: 0.5847 - val_loss: 1.9111 - val_accuracy: 0.3648\n",
            "Epoch 32/100\n",
            "157/157 [==============================] - 3s 22ms/step - loss: 1.1450 - accuracy: 0.5863 - val_loss: 1.3424 - val_accuracy: 0.5178\n",
            "Epoch 33/100\n",
            "157/157 [==============================] - 3s 22ms/step - loss: 1.1183 - accuracy: 0.5937 - val_loss: 1.5279 - val_accuracy: 0.4728\n",
            "Epoch 34/100\n",
            "157/157 [==============================] - 3s 22ms/step - loss: 1.1370 - accuracy: 0.5852 - val_loss: 1.3687 - val_accuracy: 0.5108\n",
            "Epoch 35/100\n",
            "157/157 [==============================] - 3s 21ms/step - loss: 1.0870 - accuracy: 0.6106 - val_loss: 1.4120 - val_accuracy: 0.4970\n",
            "Epoch 36/100\n",
            "157/157 [==============================] - 3s 21ms/step - loss: 1.0881 - accuracy: 0.6032 - val_loss: 1.6432 - val_accuracy: 0.4476\n",
            "Epoch 37/100\n",
            "157/157 [==============================] - 3s 21ms/step - loss: 1.1214 - accuracy: 0.5960 - val_loss: 1.4819 - val_accuracy: 0.4870\n",
            "Epoch 38/100\n",
            "157/157 [==============================] - 3s 21ms/step - loss: 1.0780 - accuracy: 0.6099 - val_loss: 1.5538 - val_accuracy: 0.4680\n",
            "Epoch 39/100\n",
            "157/157 [==============================] - 3s 21ms/step - loss: 1.0864 - accuracy: 0.6039 - val_loss: 1.5872 - val_accuracy: 0.4430\n",
            "Epoch 40/100\n",
            "157/157 [==============================] - 3s 21ms/step - loss: 1.0850 - accuracy: 0.6094 - val_loss: 1.4912 - val_accuracy: 0.4842\n",
            "Epoch 41/100\n",
            "157/157 [==============================] - 3s 21ms/step - loss: 1.0944 - accuracy: 0.6074 - val_loss: 1.4139 - val_accuracy: 0.5008\n",
            "Epoch 42/100\n",
            "157/157 [==============================] - 3s 21ms/step - loss: 1.0716 - accuracy: 0.6115 - val_loss: 1.4144 - val_accuracy: 0.4948\n",
            "Epoch 43/100\n",
            "157/157 [==============================] - 3s 21ms/step - loss: 1.0616 - accuracy: 0.6135 - val_loss: 1.8259 - val_accuracy: 0.3932\n",
            "Epoch 44/100\n",
            "157/157 [==============================] - 3s 21ms/step - loss: 1.0687 - accuracy: 0.6202 - val_loss: 1.5643 - val_accuracy: 0.4670\n",
            "Epoch 45/100\n",
            "157/157 [==============================] - 3s 21ms/step - loss: 1.0491 - accuracy: 0.6225 - val_loss: 1.7643 - val_accuracy: 0.4126\n",
            "Epoch 46/100\n",
            "157/157 [==============================] - 3s 21ms/step - loss: 1.0300 - accuracy: 0.6279 - val_loss: 1.7237 - val_accuracy: 0.4434\n",
            "Epoch 47/100\n",
            "157/157 [==============================] - 3s 22ms/step - loss: 1.0524 - accuracy: 0.6209 - val_loss: 1.5932 - val_accuracy: 0.4674\n",
            "Epoch 48/100\n",
            "157/157 [==============================] - 4s 22ms/step - loss: 1.0132 - accuracy: 0.6321 - val_loss: 1.4743 - val_accuracy: 0.4940\n",
            "Epoch 49/100\n",
            "157/157 [==============================] - 4s 22ms/step - loss: 1.0340 - accuracy: 0.6254 - val_loss: 1.3528 - val_accuracy: 0.5252\n",
            "Epoch 50/100\n",
            "157/157 [==============================] - 4s 22ms/step - loss: 1.0439 - accuracy: 0.6192 - val_loss: 1.4030 - val_accuracy: 0.5094\n",
            "Epoch 51/100\n",
            "157/157 [==============================] - 4s 23ms/step - loss: 1.0305 - accuracy: 0.6220 - val_loss: 1.4998 - val_accuracy: 0.4912\n",
            "Epoch 52/100\n",
            "157/157 [==============================] - 3s 22ms/step - loss: 1.0276 - accuracy: 0.6265 - val_loss: 1.3168 - val_accuracy: 0.5316\n",
            "Epoch 53/100\n",
            "157/157 [==============================] - 4s 22ms/step - loss: 1.0128 - accuracy: 0.6317 - val_loss: 1.6796 - val_accuracy: 0.4402\n",
            "Epoch 54/100\n",
            "157/157 [==============================] - 3s 22ms/step - loss: 1.0016 - accuracy: 0.6388 - val_loss: 1.7407 - val_accuracy: 0.4212\n",
            "Epoch 55/100\n",
            "157/157 [==============================] - 3s 22ms/step - loss: 0.9934 - accuracy: 0.6451 - val_loss: 1.6820 - val_accuracy: 0.4650\n",
            "Epoch 56/100\n",
            "157/157 [==============================] - 3s 22ms/step - loss: 0.9824 - accuracy: 0.6406 - val_loss: 1.4002 - val_accuracy: 0.5098\n",
            "Epoch 57/100\n",
            "157/157 [==============================] - 3s 21ms/step - loss: 0.9806 - accuracy: 0.6421 - val_loss: 1.4224 - val_accuracy: 0.5032\n",
            "Epoch 58/100\n",
            "157/157 [==============================] - 3s 21ms/step - loss: 1.0037 - accuracy: 0.6368 - val_loss: 1.8633 - val_accuracy: 0.4338\n",
            "Epoch 59/100\n",
            "157/157 [==============================] - 3s 22ms/step - loss: 0.9935 - accuracy: 0.6411 - val_loss: 1.4280 - val_accuracy: 0.4994\n",
            "Epoch 60/100\n",
            "157/157 [==============================] - 3s 21ms/step - loss: 0.9768 - accuracy: 0.6433 - val_loss: 1.5373 - val_accuracy: 0.5040\n",
            "Epoch 61/100\n",
            "157/157 [==============================] - 3s 21ms/step - loss: 0.9519 - accuracy: 0.6593 - val_loss: 1.6290 - val_accuracy: 0.4638\n",
            "Epoch 62/100\n",
            "157/157 [==============================] - 3s 21ms/step - loss: 0.9775 - accuracy: 0.6477 - val_loss: 1.5782 - val_accuracy: 0.4756\n",
            "Epoch 63/100\n",
            "157/157 [==============================] - 3s 21ms/step - loss: 0.9529 - accuracy: 0.6522 - val_loss: 2.3618 - val_accuracy: 0.3472\n",
            "Epoch 64/100\n",
            "157/157 [==============================] - 3s 21ms/step - loss: 0.9630 - accuracy: 0.6473 - val_loss: 1.3155 - val_accuracy: 0.5374\n",
            "Epoch 65/100\n",
            "157/157 [==============================] - 3s 21ms/step - loss: 0.9497 - accuracy: 0.6567 - val_loss: 1.3972 - val_accuracy: 0.5100\n",
            "Epoch 66/100\n",
            "157/157 [==============================] - 3s 22ms/step - loss: 0.9532 - accuracy: 0.6524 - val_loss: 1.8577 - val_accuracy: 0.4254\n",
            "Epoch 67/100\n",
            "157/157 [==============================] - 4s 22ms/step - loss: 0.9395 - accuracy: 0.6638 - val_loss: 1.3465 - val_accuracy: 0.5286\n",
            "Epoch 68/100\n",
            "157/157 [==============================] - 3s 22ms/step - loss: 0.9501 - accuracy: 0.6510 - val_loss: 1.4906 - val_accuracy: 0.5050\n",
            "Epoch 69/100\n",
            "157/157 [==============================] - 3s 22ms/step - loss: 0.9409 - accuracy: 0.6539 - val_loss: 1.8410 - val_accuracy: 0.4218\n",
            "Epoch 70/100\n",
            "157/157 [==============================] - 3s 22ms/step - loss: 0.9480 - accuracy: 0.6571 - val_loss: 1.4665 - val_accuracy: 0.5136\n",
            "Epoch 71/100\n",
            "157/157 [==============================] - 3s 22ms/step - loss: 0.9349 - accuracy: 0.6569 - val_loss: 1.8590 - val_accuracy: 0.4244\n",
            "Epoch 72/100\n",
            "157/157 [==============================] - 3s 22ms/step - loss: 0.9376 - accuracy: 0.6510 - val_loss: 1.7430 - val_accuracy: 0.4372\n",
            "Epoch 73/100\n",
            "157/157 [==============================] - 3s 22ms/step - loss: 0.9447 - accuracy: 0.6516 - val_loss: 1.8272 - val_accuracy: 0.4576\n",
            "Epoch 74/100\n",
            "157/157 [==============================] - 3s 21ms/step - loss: 0.9317 - accuracy: 0.6595 - val_loss: 1.7199 - val_accuracy: 0.4698\n",
            "Epoch 75/100\n",
            "157/157 [==============================] - 3s 21ms/step - loss: 0.9106 - accuracy: 0.6726 - val_loss: 1.4156 - val_accuracy: 0.5246\n",
            "Epoch 76/100\n",
            "157/157 [==============================] - 3s 21ms/step - loss: 0.9205 - accuracy: 0.6719 - val_loss: 1.4725 - val_accuracy: 0.5028\n",
            "Epoch 77/100\n",
            "157/157 [==============================] - 3s 21ms/step - loss: 0.9043 - accuracy: 0.6704 - val_loss: 1.5052 - val_accuracy: 0.4872\n",
            "Epoch 78/100\n",
            "157/157 [==============================] - 3s 21ms/step - loss: 0.9010 - accuracy: 0.6693 - val_loss: 1.5994 - val_accuracy: 0.4926\n",
            "Epoch 79/100\n",
            "157/157 [==============================] - 3s 21ms/step - loss: 0.8727 - accuracy: 0.6875 - val_loss: 1.3816 - val_accuracy: 0.5396\n",
            "Epoch 80/100\n",
            "157/157 [==============================] - 3s 21ms/step - loss: 0.8999 - accuracy: 0.6713 - val_loss: 1.7971 - val_accuracy: 0.4442\n",
            "Epoch 81/100\n",
            "157/157 [==============================] - 3s 21ms/step - loss: 0.9057 - accuracy: 0.6679 - val_loss: 1.6088 - val_accuracy: 0.4824\n",
            "Epoch 82/100\n",
            "157/157 [==============================] - 3s 21ms/step - loss: 0.8777 - accuracy: 0.6802 - val_loss: 1.8214 - val_accuracy: 0.4536\n",
            "Epoch 83/100\n",
            "157/157 [==============================] - 3s 21ms/step - loss: 0.8808 - accuracy: 0.6815 - val_loss: 1.6468 - val_accuracy: 0.4868\n",
            "Epoch 84/100\n",
            "157/157 [==============================] - 3s 20ms/step - loss: 0.8871 - accuracy: 0.6833 - val_loss: 1.4259 - val_accuracy: 0.5272\n"
          ],
          "name": "stdout"
        }
      ]
    },
    {
      "cell_type": "code",
      "metadata": {
        "colab": {
          "base_uri": "https://localhost:8080/",
          "height": 279
        },
        "id": "ZYYJabYgfy33",
        "outputId": "ea0b52e0-8c78-4ac6-b1eb-69475aca822e"
      },
      "source": [
        "plt.plot(history.history['loss'])\n",
        "plt.plot(history.history['val_loss'])\n",
        "plt.xlabel('epoch')\n",
        "plt.ylabel('loss')\n",
        "plt.legend(['train','val'])\n",
        "plt.show()"
      ],
      "execution_count": null,
      "outputs": [
        {
          "output_type": "display_data",
          "data": {
            "image/png": "[encoded data removed]",
            "text/plain": [
              "<Figure size 432x288 with 1 Axes>"
            ]
          },
          "metadata": {
            "tags": [],
            "needs_background": "light"
          }
        }
      ]
    },
    {
      "cell_type": "code",
      "metadata": {
        "colab": {
          "base_uri": "https://localhost:8080/"
        },
        "id": "R8AZNRoIfzSm",
        "outputId": "36133b72-7c12-48b5-e91a-781a52380d89"
      },
      "source": [
        "model.evaluate(x_test,y_test)"
      ],
      "execution_count": null,
      "outputs": [
        {
          "output_type": "stream",
          "text": [
            "313/313 [==============================] - 3s 7ms/step - loss: 1.0036 - accuracy: 0.6395\n"
          ],
          "name": "stdout"
        },
        {
          "output_type": "execute_result",
          "data": {
            "text/plain": [
              "[1.0036276578903198, 0.6395000219345093]"
            ]
          },
          "metadata": {
            "tags": []
          },
          "execution_count": 12
        }
      ]
    },
    {
      "cell_type": "code",
      "metadata": {
        "id": "qvxwboH1h2Fo"
      },
      "source": [
        ""
      ],
      "execution_count": null,
      "outputs": []
    }
  ]
}