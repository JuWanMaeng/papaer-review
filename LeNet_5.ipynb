{
  "nbformat": 4,
  "nbformat_minor": 0,
  "metadata": {
    "colab": {
      "name": "LeNet-5.ipynb",
      "provenance": [],
      "authorship_tag": "ABX9TyNS0B8s6V2h8wKe6MUscmrt",
      "include_colab_link": true
    },
    "kernelspec": {
      "name": "python3",
      "display_name": "Python 3"
    },
    "language_info": {
      "name": "python"
    },
    "accelerator": "GPU"
  },
  "cells": [
    {
      "cell_type": "markdown",
      "metadata": {
        "id": "view-in-github",
        "colab_type": "text"
      },
      "source": [
        "<a href=\"https://colab.research.google.com/github/JuWanMaeng/papaer-review/blob/main/LeNet_5.ipynb\" target=\"_parent\"><img src=\"https://colab.research.google.com/assets/colab-badge.svg\" alt=\"Open In Colab\"/></a>"
      ]
    },
    {
      "cell_type": "code",
      "metadata": {
        "id": "7xL7geF_Jtlt"
      },
      "source": [
        "import numpy as np\n",
        "from keras.utils.np_utils import to_categorical\n",
        "from keras.models import Sequential\n",
        "from keras.layers import Dense,Conv2D,Flatten,MaxPool2D,AvgPool2D\n",
        "\n",
        "from tensorflow import keras\n",
        "from sklearn.model_selection import train_test_split"
      ],
      "execution_count": 64,
      "outputs": []
    },
    {
      "cell_type": "code",
      "metadata": {
        "id": "b_VmVHroKbTz"
      },
      "source": [
        "(x_train,y_train),(x_test,y_test) = keras.datasets.mnist.load_data()"
      ],
      "execution_count": 55,
      "outputs": []
    },
    {
      "cell_type": "code",
      "metadata": {
        "id": "xshGB6iiNT34"
      },
      "source": [
        "x_train=x_train.reshape(-1,28,28,1)\n",
        "x_test=x_test.reshape(-1,28,28,1)"
      ],
      "execution_count": 56,
      "outputs": []
    },
    {
      "cell_type": "code",
      "metadata": {
        "id": "Kw3Z4kOAKsYB"
      },
      "source": [
        "x_train,x_val,y_train,y_val=train_test_split(x_train,y_train,test_size=0.2)"
      ],
      "execution_count": 57,
      "outputs": []
    },
    {
      "cell_type": "code",
      "metadata": {
        "id": "8GFrHxdHK1oY"
      },
      "source": [
        "x_train=x_train/255.0\n",
        "x_val=x_val/255.0\n",
        "x_test=x_test/255.0"
      ],
      "execution_count": 58,
      "outputs": []
    },
    {
      "cell_type": "code",
      "metadata": {
        "colab": {
          "base_uri": "https://localhost:8080/"
        },
        "id": "CD9PZmsdLbDH",
        "outputId": "ffbbe4e7-ff59-4bb3-e79d-6e1b78c03292"
      },
      "source": [
        "model=Sequential([\n",
        "                  Conv2D(6,kernel_size=5,strides=1,activation='relu',input_shape=(28,28,1),padding='same'),\n",
        "                  MaxPool2D(2,strides=2),\n",
        "                  Conv2D(16,5,strides=1,activation='relu'),\n",
        "                  MaxPool2D(2,strides=2),\n",
        "                  Conv2D(120,5,strides=1,activation='relu'),\n",
        "                  Flatten(),\n",
        "                  Dense(84,activation='tanh'),\n",
        "                  Dense(10,activation='softmax')\n",
        "]\n",
        ")\n",
        "model.summary()"
      ],
      "execution_count": 59,
      "outputs": [
        {
          "output_type": "stream",
          "text": [
            "Model: \"sequential_9\"\n",
            "_________________________________________________________________\n",
            "Layer (type)                 Output Shape              Param #   \n",
            "=================================================================\n",
            "conv2d_27 (Conv2D)           (None, 28, 28, 6)         156       \n",
            "_________________________________________________________________\n",
            "max_pooling2d_18 (MaxPooling (None, 14, 14, 6)         0         \n",
            "_________________________________________________________________\n",
            "conv2d_28 (Conv2D)           (None, 10, 10, 16)        2416      \n",
            "_________________________________________________________________\n",
            "max_pooling2d_19 (MaxPooling (None, 5, 5, 16)          0         \n",
            "_________________________________________________________________\n",
            "conv2d_29 (Conv2D)           (None, 1, 1, 120)         48120     \n",
            "_________________________________________________________________\n",
            "flatten_1 (Flatten)          (None, 120)               0         \n",
            "_________________________________________________________________\n",
            "dense_18 (Dense)             (None, 84)                10164     \n",
            "_________________________________________________________________\n",
            "dense_19 (Dense)             (None, 10)                850       \n",
            "=================================================================\n",
            "Total params: 61,706\n",
            "Trainable params: 61,706\n",
            "Non-trainable params: 0\n",
            "_________________________________________________________________\n"
          ],
          "name": "stdout"
        }
      ]
    },
    {
      "cell_type": "code",
      "metadata": {
        "colab": {
          "base_uri": "https://localhost:8080/"
        },
        "id": "Fpa7zDV_MtXl",
        "outputId": "084ae504-f685-4563-e565-27c3c6572c7f"
      },
      "source": [
        "model.compile(loss='sparse_categorical_crossentropy',metrics='accuracy')\n",
        "early_stopping_cb=keras.callbacks.EarlyStopping(patience=3)\n",
        "history=model.fit(x_train,y_train,batch_size=64,\n",
        "                  validation_data=(x_val,y_val),\n",
        "                  epochs=20,callbacks=[early_stopping_cb])"
      ],
      "execution_count": 60,
      "outputs": [
        {
          "output_type": "stream",
          "text": [
            "Epoch 1/20\n",
            "750/750 [==============================] - 4s 4ms/step - loss: 0.5188 - accuracy: 0.8361 - val_loss: 0.1104 - val_accuracy: 0.9663\n",
            "Epoch 2/20\n",
            "750/750 [==============================] - 3s 4ms/step - loss: 0.0750 - accuracy: 0.9761 - val_loss: 0.0723 - val_accuracy: 0.9787\n",
            "Epoch 3/20\n",
            "750/750 [==============================] - 3s 4ms/step - loss: 0.0476 - accuracy: 0.9843 - val_loss: 0.0513 - val_accuracy: 0.9855\n",
            "Epoch 4/20\n",
            "750/750 [==============================] - 3s 4ms/step - loss: 0.0353 - accuracy: 0.9882 - val_loss: 0.0524 - val_accuracy: 0.9854\n",
            "Epoch 5/20\n",
            "750/750 [==============================] - 3s 4ms/step - loss: 0.0287 - accuracy: 0.9910 - val_loss: 0.0454 - val_accuracy: 0.9868\n",
            "Epoch 6/20\n",
            "750/750 [==============================] - 3s 4ms/step - loss: 0.0219 - accuracy: 0.9933 - val_loss: 0.0447 - val_accuracy: 0.9873\n",
            "Epoch 7/20\n",
            "750/750 [==============================] - 3s 4ms/step - loss: 0.0167 - accuracy: 0.9949 - val_loss: 0.0499 - val_accuracy: 0.9874\n",
            "Epoch 8/20\n",
            "750/750 [==============================] - 3s 4ms/step - loss: 0.0156 - accuracy: 0.9952 - val_loss: 0.0489 - val_accuracy: 0.9869\n",
            "Epoch 9/20\n",
            "750/750 [==============================] - 3s 4ms/step - loss: 0.0139 - accuracy: 0.9957 - val_loss: 0.0527 - val_accuracy: 0.9867\n"
          ],
          "name": "stdout"
        }
      ]
    },
    {
      "cell_type": "code",
      "metadata": {
        "id": "3k2epX-9OHvO"
      },
      "source": [
        "import matplotlib.pyplot as plt\n"
      ],
      "execution_count": 61,
      "outputs": []
    },
    {
      "cell_type": "code",
      "metadata": {
        "colab": {
          "base_uri": "https://localhost:8080/",
          "height": 283
        },
        "id": "b3tpjMNaRGkc",
        "outputId": "b604211f-2b39-4d83-a657-243ceea1e168"
      },
      "source": [
        "plt.plot(history.history['loss'])\n",
        "plt.plot(history.history['val_loss'])\n",
        "plt.xlabel('epoch')\n",
        "plt.ylabel('loss')\n",
        "plt.legend(['train','val'])\n",
        "plt.show()"
      ],
      "execution_count": 62,
      "outputs": [
        {
          "output_type": "display_data",
          "data": {
            "image/png": "[encoded data removed]",
            "text/plain": [
              "<Figure size 432x288 with 1 Axes>"
            ]
          },
          "metadata": {
            "tags": [],
            "needs_background": "light"
          }
        }
      ]
    },
    {
      "cell_type": "code",
      "metadata": {
        "colab": {
          "base_uri": "https://localhost:8080/"
        },
        "id": "Klo8vrDpRTJv",
        "outputId": "7f347de6-825e-4681-9025-441873094e64"
      },
      "source": [
        "model.evaluate(x_test,y_test)"
      ],
      "execution_count": 63,
      "outputs": [
        {
          "output_type": "stream",
          "text": [
            "313/313 [==============================] - 1s 2ms/step - loss: 0.0347 - accuracy: 0.9904\n"
          ],
          "name": "stdout"
        },
        {
          "output_type": "execute_result",
          "data": {
            "text/plain": [
              "[0.03468400985002518, 0.9904000163078308]"
            ]
          },
          "metadata": {
            "tags": []
          },
          "execution_count": 63
        }
      ]
    },
    {
      "cell_type": "code",
      "metadata": {
        "id": "rXtSPWluRdhw"
      },
      "source": [
        "class LeNet(Sequential):\n",
        "  def __init__(self,num_classes):\n",
        "    super().__init__()\n",
        "\n",
        "    self.add(Conv2D(6,5,strides=1,activation='relu',input_shape=(28,28,1),padding='same'))\n",
        "    self.add(AvgPool2D(2,strides=2))\n",
        "    self.add(Conv2D(16,5,strides=1,activation='relu'))\n",
        "    self.add(AvgPool2D(2,strides=2))\n",
        "    self.add(Conv2D(120,5,strides=1,activation='relu'))\n",
        "    self.add(Flatten())\n",
        "    self.add(Dense(84,activation='tanh'))\n",
        "    self.add(Dense(num_classes,activation='softmax'))\n",
        "\n",
        "    self.compile(optimizer='adam',\n",
        "                 loss='sparse_categorical_crossentropy',\n",
        "                 metrics='accuracy')"
      ],
      "execution_count": 80,
      "outputs": []
    },
    {
      "cell_type": "code",
      "metadata": {
        "id": "rK2efmUTT5c6"
      },
      "source": [
        "model=LeNet(10)"
      ],
      "execution_count": 81,
      "outputs": []
    },
    {
      "cell_type": "code",
      "metadata": {
        "colab": {
          "base_uri": "https://localhost:8080/"
        },
        "id": "Mqa5_DLjT-uL",
        "outputId": "5c61da60-9793-49d8-ddfa-0ff6f6242213"
      },
      "source": [
        "model.summary()"
      ],
      "execution_count": 82,
      "outputs": [
        {
          "output_type": "stream",
          "text": [
            "Model: \"le_net_3\"\n",
            "_________________________________________________________________\n",
            "Layer (type)                 Output Shape              Param #   \n",
            "=================================================================\n",
            "conv2d_38 (Conv2D)           (None, 28, 28, 6)         156       \n",
            "_________________________________________________________________\n",
            "average_pooling2d_6 (Average (None, 14, 14, 6)         0         \n",
            "_________________________________________________________________\n",
            "conv2d_39 (Conv2D)           (None, 10, 10, 16)        2416      \n",
            "_________________________________________________________________\n",
            "average_pooling2d_7 (Average (None, 5, 5, 16)          0         \n",
            "_________________________________________________________________\n",
            "conv2d_40 (Conv2D)           (None, 1, 1, 120)         48120     \n",
            "_________________________________________________________________\n",
            "flatten_5 (Flatten)          (None, 120)               0         \n",
            "_________________________________________________________________\n",
            "dense_27 (Dense)             (None, 84)                10164     \n",
            "_________________________________________________________________\n",
            "dense_28 (Dense)             (None, 10)                850       \n",
            "=================================================================\n",
            "Total params: 61,706\n",
            "Trainable params: 61,706\n",
            "Non-trainable params: 0\n",
            "_________________________________________________________________\n"
          ],
          "name": "stdout"
        }
      ]
    },
    {
      "cell_type": "code",
      "metadata": {
        "colab": {
          "base_uri": "https://localhost:8080/"
        },
        "id": "kiQI0vjgUCUE",
        "outputId": "8deb088b-eedc-49be-8851-8539f740c317"
      },
      "source": [
        "history=model.fit(x_train,y_train,\n",
        "          epochs=20,\n",
        "          validation_data=(x_val,y_val),\n",
        "          callbacks=[early_stopping_cb],\n",
        "          )"
      ],
      "execution_count": 77,
      "outputs": [
        {
          "output_type": "stream",
          "text": [
            "Epoch 1/20\n",
            "1500/1500 [==============================] - 5s 3ms/step - loss: 0.4095 - accuracy: 0.8736 - val_loss: 0.0825 - val_accuracy: 0.9758\n",
            "Epoch 2/20\n",
            "1500/1500 [==============================] - 4s 3ms/step - loss: 0.0768 - accuracy: 0.9765 - val_loss: 0.0592 - val_accuracy: 0.9827\n",
            "Epoch 3/20\n",
            "1500/1500 [==============================] - 4s 3ms/step - loss: 0.0499 - accuracy: 0.9846 - val_loss: 0.0597 - val_accuracy: 0.9810\n",
            "Epoch 4/20\n",
            "1500/1500 [==============================] - 4s 3ms/step - loss: 0.0423 - accuracy: 0.9857 - val_loss: 0.0543 - val_accuracy: 0.9838\n",
            "Epoch 5/20\n",
            "1500/1500 [==============================] - 4s 3ms/step - loss: 0.0291 - accuracy: 0.9912 - val_loss: 0.0427 - val_accuracy: 0.9869\n",
            "Epoch 6/20\n",
            "1500/1500 [==============================] - 4s 3ms/step - loss: 0.0237 - accuracy: 0.9914 - val_loss: 0.0454 - val_accuracy: 0.9866\n",
            "Epoch 7/20\n",
            "1500/1500 [==============================] - 4s 3ms/step - loss: 0.0194 - accuracy: 0.9936 - val_loss: 0.0467 - val_accuracy: 0.9873\n",
            "Epoch 8/20\n",
            "1500/1500 [==============================] - 4s 3ms/step - loss: 0.0159 - accuracy: 0.9947 - val_loss: 0.0396 - val_accuracy: 0.9899\n",
            "Epoch 9/20\n",
            "1500/1500 [==============================] - 4s 3ms/step - loss: 0.0129 - accuracy: 0.9958 - val_loss: 0.0421 - val_accuracy: 0.9887\n",
            "Epoch 10/20\n",
            "1500/1500 [==============================] - 4s 3ms/step - loss: 0.0105 - accuracy: 0.9971 - val_loss: 0.0485 - val_accuracy: 0.9864\n",
            "Epoch 11/20\n",
            "1500/1500 [==============================] - 4s 3ms/step - loss: 0.0104 - accuracy: 0.9968 - val_loss: 0.0474 - val_accuracy: 0.9875\n"
          ],
          "name": "stdout"
        }
      ]
    },
    {
      "cell_type": "code",
      "metadata": {
        "colab": {
          "base_uri": "https://localhost:8080/",
          "height": 279
        },
        "id": "snN5DrGpUQu9",
        "outputId": "096a6419-c10d-4245-be9a-cf98df53da81"
      },
      "source": [
        "plt.plot(history.history['loss'])\n",
        "plt.plot(history.history['val_loss'])\n",
        "plt.xlabel('epoch')\n",
        "plt.ylabel('loss')\n",
        "plt.legend(['train','val'])\n",
        "plt.show()"
      ],
      "execution_count": 78,
      "outputs": [
        {
          "output_type": "display_data",
          "data": {
            "image/png": "[encoded data removed]",
            "text/plain": [
              "<Figure size 432x288 with 1 Axes>"
            ]
          },
          "metadata": {
            "tags": [],
            "needs_background": "light"
          }
        }
      ]
    },
    {
      "cell_type": "code",
      "metadata": {
        "colab": {
          "base_uri": "https://localhost:8080/"
        },
        "id": "DKwLtZtoUfa7",
        "outputId": "2d8bc393-3c56-445c-d1a7-ab4dd1e00724"
      },
      "source": [
        "model.evaluate(x_test,y_test)"
      ],
      "execution_count": 79,
      "outputs": [
        {
          "output_type": "stream",
          "text": [
            "313/313 [==============================] - 1s 2ms/step - loss: 0.0429 - accuracy: 0.9876\n"
          ],
          "name": "stdout"
        },
        {
          "output_type": "execute_result",
          "data": {
            "text/plain": [
              "[0.04291604831814766, 0.9876000285148621]"
            ]
          },
          "metadata": {
            "tags": []
          },
          "execution_count": 79
        }
      ]
    },
    {
      "cell_type": "code",
      "metadata": {
        "id": "_CAOwrqRUiYi"
      },
      "source": [
        ""
      ],
      "execution_count": null,
      "outputs": []
    }
  ]
}